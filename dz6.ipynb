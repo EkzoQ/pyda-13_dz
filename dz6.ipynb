{
 "cells": [
  {
   "cell_type": "code",
   "execution_count": 3,
   "metadata": {},
   "outputs": [],
   "source": [
    "import json\n",
    "import reprlib"
   ]
  },
  {
   "cell_type": "markdown",
   "metadata": {},
   "source": [
    "## Задача 1\n",
    "\n",
    "Переведите содержимое файла purchase_log.txt в словарь purchases вида:\n",
    "{‘1840e0b9d4’: ‘Продукты’, …}"
   ]
  },
  {
   "cell_type": "code",
   "execution_count": 4,
   "metadata": {},
   "outputs": [
    {
     "data": {
      "text/plain": [
       "\"{'000117a2a3': 'Электроника', '0002983af3': 'Электроника', '0002b641bc': 'Бытовая техника', '000302625b': 'Электроника', ...}\""
      ]
     },
     "execution_count": 4,
     "metadata": {},
     "output_type": "execute_result"
    }
   ],
   "source": [
    "purchases = {}\n",
    "\n",
    "with open(\"purchase_log.txt\", encoding = \"utf-8\") as f1:\n",
    "    for i, l in enumerate(f1):\n",
    "        if i > 0:\n",
    "            line1_ = l.strip()\n",
    "            dict1_ = json.loads(line1_)\n",
    "            purchases[dict1_[\"user_id\"]] = dict1_[\"category\"]\n",
    "\n",
    "reprlib.repr(purchases)        "
   ]
  },
  {
   "cell_type": "markdown",
   "metadata": {},
   "source": [
    "## Задача 2\n",
    "\n",
    "Для каждого user_id в файле visit_log.csv определите третий столбец с категорией покупки (если покупка была, сам файл visit_log.csv изменять не надо). Запишите в файл funnel.csv визиты из файла visit_log.csv, в которых были покупки с указанием категории."
   ]
  },
  {
   "cell_type": "code",
   "execution_count": 6,
   "metadata": {},
   "outputs": [],
   "source": [
    "with open(\"visit_log.csv\", encoding = \"utf-8\") as f2:\n",
    "    with open(\"funnel.csv\", \"w\", encoding = \"cp1251\") as f3:\n",
    "        for i, l in enumerate(f2):\n",
    "            if i > 0:\n",
    "                visits = l.strip().split(\",\")\n",
    "                category = purchases.get(visits[0])\n",
    "                if category != None:\n",
    "                    f3.write(category + \",\" + l)"
   ]
  },
  {
   "cell_type": "code",
   "execution_count": null,
   "metadata": {},
   "outputs": [],
   "source": []
  }
 ],
 "metadata": {
  "kernelspec": {
   "display_name": "Python 3",
   "language": "python",
   "name": "python3"
  },
  "language_info": {
   "codemirror_mode": {
    "name": "ipython",
    "version": 3
   },
   "file_extension": ".py",
   "mimetype": "text/x-python",
   "name": "python",
   "nbconvert_exporter": "python",
   "pygments_lexer": "ipython3",
   "version": "3.8.3"
  }
 },
 "nbformat": 4,
 "nbformat_minor": 2
}
