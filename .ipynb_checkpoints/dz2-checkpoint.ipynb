{
 "cells": [
  {
   "cell_type": "markdown",
   "metadata": {},
   "source": [
    "### Задание 1\n",
    "\n",
    "Даны 2 переменных, в которых хранятся строки произвольной длины: phrase_1 и phrase_2.\n",
    "\n",
    "Напишите код, который проверяет какая из этих строк длиннее."
   ]
  },
  {
   "cell_type": "code",
   "execution_count": 1,
   "metadata": {},
   "outputs": [
    {
     "name": "stdout",
     "output_type": "stream",
     "text": [
      "Введите фразу 1: AAA\n",
      "Введите фразу 2: A\n",
      "Фраза 1 длинее фразы 2\n"
     ]
    }
   ],
   "source": [
    "phrase_1 = input(\"Введите фразу 1: \")\n",
    "phrase_2 = input(\"Введите фразу 2: \")\n",
    "\n",
    "if len(phrase_1) > len(phrase_2):\n",
    "    print(\"Фраза 1 длинее фразы 2\")\n",
    "else:\n",
    "    print(\"Фраза 2 длинее фразы 1\")"
   ]
  },
  {
   "cell_type": "markdown",
   "metadata": {},
   "source": [
    "### Задание 2\n",
    "\n",
    "Дана переменная, в которой хранится четырехзначное число (год). \n",
    "\n",
    "Необходимо написать программу, которая выведет, является ли данный год високосным или обычным."
   ]
  },
  {
   "cell_type": "code",
   "execution_count": 2,
   "metadata": {},
   "outputs": [
    {
     "name": "stdout",
     "output_type": "stream",
     "text": [
      "Введите год: 2020\n",
      "Високосный год\n"
     ]
    }
   ],
   "source": [
    "# Год является високосным, если он кратен 4 и при этом не кратен 100 либо кратен 400. \n",
    "# Год не является високосным, если он не кратен 4 либо кратен 4, но при этом кратен 100 и не кратен 400.\n",
    "\n",
    "year = int(input(\"Введите год: \"))\n",
    "\n",
    "if (year % 4 == 0) and (year % 100 != 0) or (year % 400 == 0):\n",
    "      print(\"Високосный год\")\n",
    "else:\n",
    "    print(\"Обычный год\")"
   ]
  },
  {
   "cell_type": "markdown",
   "metadata": {},
   "source": [
    "### Задание 3\n",
    "\n",
    "Необходимо написать программу, которая будет запрашивать у пользователя месяц и дату рождения и выводить соответствующий знак зодиака."
   ]
  },
  {
   "cell_type": "code",
   "execution_count": 11,
   "metadata": {},
   "outputs": [
    {
     "name": "stdout",
     "output_type": "stream",
     "text": [
      "Введите день: 30\n",
      "Введите месяц: Сентябрь\n",
      "Ваш знак зодиака: Весы\n"
     ]
    }
   ],
   "source": [
    "day = int(input(\"Введите день: \"))\n",
    "month = input(\"Введите месяц: \")\n",
    "\n",
    "if (day >= 21 and day <= 31 and month == \"Март\") or (day >= 1 and day <= 20 and month == \"Апрель\"):\n",
    "    print(\"Ваш знак зодиака: Овен\")\n",
    "elif (day >= 21 and day <= 30 and month == \"Апрель\") or (day >= 1 and day <= 20 and month == \"Май\"):\n",
    "    print(\"Ваш знак зодиака: Телец\")\n",
    "elif (day >= 21 and day <= 31 and month == \"Май\") or (day >= 1 and day <= 21 and month == \"Июнь\"):\n",
    "    print(\"Ваш знак зодиака: Близнецы\")\n",
    "elif (day >= 22 and day <= 30 and month == \"Июнь\") or (day >= 1 and day <= 22 and month == \"Июль\"):\n",
    "    print(\"Ваш знак зодиака: Рак\")\n",
    "elif (day >= 23 and day <= 31 and month == \"Июль\") or (day >= 1 and day <= 23 and month == \"Август\"):\n",
    "    print(\"Ваш знак зодиака: Лев\")\n",
    "elif (day >= 24 and day <= 30 and month == \"Август\") or (day >= 1 and day <= 23 and month == \"Сентябрь\"):\n",
    "    print(\"Ваш знак зодиака: Дева\")\n",
    "elif (day >= 24 and day <= 31 and month == \"Сентябрь\") or (day >= 1 and day <= 23 and month == \"Октябрь\"):\n",
    "    print(\"Ваш знак зодиака: Весы\")\n",
    "elif (day >= 24 and day <= 30 and month == \"Октябрь\") or (day >= 1 and day <= 22 and month == \"Ноябрь\"):\n",
    "    print(\"Ваш знак зодиака: Скорпион\")\n",
    "elif (day >= 23 and day <= 31 and month == \"Ноябрь\") or (day >= 1 and day <= 21 and month == \"Декабрь\"):\n",
    "    print(\"Ваш знак зодиака: Стрелец\")\n",
    "elif (day >= 22 and day <= 30 and month == \"Декабрь\") or (day >= 1 and day <= 20 and month == \"Январь\"):\n",
    "    print(\"Ваш знак зодиака: Козерог\")\n",
    "elif (day >= 21 and day <= 31 and month == \"Январь\") or (day >= 1 and day <= 20 and month == \"Февраль\"):\n",
    "    print(\"Ваш знак зодиака: Водолей\")\n",
    "elif (day >= 21 and day <= 30 and month == \"Февраль\") or (day >= 1 and day <= 20 and month == \"Март\"):\n",
    "    print(\"Ваш знак зодиака: Рыбы\")"
   ]
  },
  {
   "cell_type": "markdown",
   "metadata": {},
   "source": [
    "### Задание 4\n",
    "Вам нужно написать программу для подбора упаковок по размерам товара. \n",
    "\n",
    "Размеры хранятся в переменных (в сантиметрах):"
   ]
  },
  {
   "cell_type": "code",
   "execution_count": 1,
   "metadata": {},
   "outputs": [
    {
     "name": "stdout",
     "output_type": "stream",
     "text": [
      "Введите ширину: 20\n",
      "Введите длину: 300\n",
      "Введите высоту: 20\n",
      "Упаковка для лыж\n"
     ]
    }
   ],
   "source": [
    "width = int(input(\"Введите ширину: \"))\n",
    "length = int(input(\"Введите длину: \"))\n",
    "height = int(input(\"Введите высоту: \"))\n",
    "\n",
    "if (width < 15) and (length < 15) and (height < 15):\n",
    "    print(\"Коробка номер 1\")\n",
    "elif length > 200:\n",
    "    print(\"Упаковка для лыж\")\n",
    "elif (15 < width < 50) or (15 < length < 50) or (15 < height < 50):\n",
    "    print(\"Коробка номер 2\")\n",
    "else:\n",
    "    print(\"Коробка номер 3\")"
   ]
  },
  {
   "cell_type": "markdown",
   "metadata": {},
   "source": [
    "### Задание 5 (необязательное)\n",
    "Дана переменная, в которой хранится шестизначное число (номер проездного билета). \n",
    "\n",
    "Напишите программу, которая будет определять, является ли данный билет “счастливым”. \n",
    "\n",
    "Билет считается счастливым, если сумма первых трех цифр совпадает с суммой последних трех цифр номера."
   ]
  },
  {
   "cell_type": "code",
   "execution_count": 1,
   "metadata": {},
   "outputs": [
    {
     "name": "stdout",
     "output_type": "stream",
     "text": [
      "Введите шестизначное число: 333333\n",
      "Счастливый\n"
     ]
    }
   ],
   "source": [
    "number = input(\"Введите шестизначное число: \")\n",
    "\n",
    "n1 = int(number[0])\n",
    "n2 = int(number[1])\n",
    "n3 = int(number[2])\n",
    "n4 = int(number[-3])\n",
    "n5 = int(number[-2])\n",
    "n6 = int(number[-1])\n",
    "\n",
    "if (n1 + n2 + n3) == (n4 + n5 + n6):\n",
    "    print(\"Счастливый\")\n",
    "else: \n",
    "    print(\"Несчастливый\")"
   ]
  },
  {
   "cell_type": "markdown",
   "metadata": {},
   "source": [
    "### Задание 6 (необязательное)\n",
    "\n",
    "Напишите программу, которая сможет вычислять площади трех фигур (круг, треугольник и прямоугольник). \n",
    "\n",
    "Тип фигуры запрашиваем через пользовательский ввод, после чего делаем запрос характеристик фигуры:\n",
    "\n",
    "* если пользователь выбрал круг, запрашиваем его радиус;\n",
    "* если треугольник – длины трех его сторон;\n",
    "* если прямоугольник – длины двух его сторон."
   ]
  },
  {
   "cell_type": "code",
   "execution_count": 1,
   "metadata": {},
   "outputs": [
    {
     "name": "stdout",
     "output_type": "stream",
     "text": [
      "Введите тип фигуры: Треугольник\n",
      "Введите сторону a: 1\n",
      "Введите сторону b: 1\n",
      "Введите сторону c: 2\n",
      "0.0\n"
     ]
    }
   ],
   "source": [
    "t = input(\"Введите тип фигуры: \")\n",
    "\n",
    "if t == \"Треугольник\":\n",
    "    a = float(input(\"Введите сторону a: \"))\n",
    "    b = float(input(\"Введите сторону b: \"))\n",
    "    c = float(input(\"Введите сторону c: \"))\n",
    "    p = (a + b + c) / 2\n",
    "    s = (p * (p - a) * (p - b) * (p - c)) ** (1/2)\n",
    "elif t == \"Круг\":\n",
    "    r = float(input(\"Введите радиус круга: \"))\n",
    "    s = 3.1415926536 * (r ** 2)\n",
    "elif t == \"Прямоугольник\":\n",
    "    a = float(input(\"Введите сторону a: \"))\n",
    "    b = float(input(\"Введите сторону b: \"))\n",
    "    s = a * b \n",
    "print(s)"
   ]
  },
  {
   "cell_type": "code",
   "execution_count": null,
   "metadata": {},
   "outputs": [],
   "source": []
  },
  {
   "cell_type": "code",
   "execution_count": null,
   "metadata": {},
   "outputs": [],
   "source": []
  }
 ],
 "metadata": {
  "kernelspec": {
   "display_name": "Python 3",
   "language": "python",
   "name": "python3"
  },
  "language_info": {
   "codemirror_mode": {
    "name": "ipython",
    "version": 3
   },
   "file_extension": ".py",
   "mimetype": "text/x-python",
   "name": "python",
   "nbconvert_exporter": "python",
   "pygments_lexer": "ipython3",
   "version": "3.7.4"
  }
 },
 "nbformat": 4,
 "nbformat_minor": 2
}
