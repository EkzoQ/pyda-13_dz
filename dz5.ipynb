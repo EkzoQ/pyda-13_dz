{
 "cells": [
  {
   "cell_type": "markdown",
   "metadata": {},
   "source": [
    "# Домашнее задание к лекции \"Функции\""
   ]
  },
  {
   "cell_type": "code",
   "execution_count": 112,
   "metadata": {},
   "outputs": [],
   "source": [
    "documents = [\n",
    " {'type': 'passport', 'number': '2207 876234', 'name': 'Василий Гупкин'},\n",
    " {'type': 'invoice', 'number': '11-2', 'name': 'Геннадий Покемонов'},\n",
    " {'type': 'insurance', 'number': '10006', 'name': 'Аристарх Павлов'}\n",
    "]\n",
    "\n",
    "directories = {\n",
    " '1': ['2207 876234', '11-2'],\n",
    " '2': ['10006'],\n",
    " '3': []\n",
    "}\n"
   ]
  },
  {
   "cell_type": "markdown",
   "metadata": {},
   "source": [
    "## Задание 1"
   ]
  },
  {
   "cell_type": "markdown",
   "metadata": {},
   "source": [
    "### Пункт 1. Пользователь по команде \"p\" может узнать владельца документа по его номеру"
   ]
  },
  {
   "cell_type": "code",
   "execution_count": 65,
   "metadata": {},
   "outputs": [
    {
     "name": "stdout",
     "output_type": "stream",
     "text": [
      "Введите номер документа: 10006\n",
      "Владелец документа:  Аристарх Павлов\n"
     ]
    }
   ],
   "source": [
    "# Вариант 1\n",
    "def p*():\n",
    "    found = False\n",
    "    num = input(\"Введите номер документа: \")\n",
    "    for doc in documents:\n",
    "        if \"number\" in doc.keys() and doc[\"number\"] == num:\n",
    "            print(\"Владелец документа: \", doc[\"name\"])\n",
    "            found = True\n",
    "    if not found:\n",
    "        print(\"Документ не найден в базе\")\n",
    "\n",
    "p*()"
   ]
  },
  {
   "cell_type": "code",
   "execution_count": 114,
   "metadata": {},
   "outputs": [
    {
     "name": "stdout",
     "output_type": "stream",
     "text": [
      "Введите номер документа: 1\n",
      "Документ не найден в базе\n"
     ]
    }
   ],
   "source": [
    "# Вариант 2 \n",
    "def p():\n",
    "    num = input(\"Введите номер документа: \")\n",
    "    name = {}\n",
    "    for doc in documents:\n",
    "        if num == doc[\"number\"]:\n",
    "            name = doc[\"name\"]\n",
    "    if name == {}:\n",
    "        print(\"Документ не найден в базе\")\n",
    "    else:\n",
    "        print(f\"Владелец документа: {name}\")\n",
    "        \n",
    "p()"
   ]
  },
  {
   "cell_type": "markdown",
   "metadata": {},
   "source": [
    "### Пункт 2. Пользователь по команде \"s\" может по номеру документа узнать на какой полке он хранится"
   ]
  },
  {
   "cell_type": "code",
   "execution_count": 45,
   "metadata": {},
   "outputs": [
    {
     "name": "stdout",
     "output_type": "stream",
     "text": [
      "Введите номер документа: 123\n",
      "Документ не найден в базе\n"
     ]
    }
   ],
   "source": [
    "def s():\n",
    "    num = input(\"Введите номер документа: \")\n",
    "    shelf = {}\n",
    "    for direct in directories.items():\n",
    "        if num in direct[1]:\n",
    "            shelf = direct[0]\n",
    "    if shelf == {}:\n",
    "        print(\"Документ не найден в базе\")\n",
    "    else:\n",
    "        print(f\"Документ хранится на полке: {shelf}\")\n",
    "\n",
    "s()"
   ]
  },
  {
   "cell_type": "markdown",
   "metadata": {},
   "source": [
    "### Пункт 3. Пользователь по команде \"l\" может увидеть полную информацию по всем документам¶\n"
   ]
  },
  {
   "cell_type": "code",
   "execution_count": 57,
   "metadata": {},
   "outputs": [
    {
     "name": "stdout",
     "output_type": "stream",
     "text": [
      "Тип passport, номер 2207 876234, владелец Василий Гупкин, полка 1\n",
      "Тип invoice, номер 11-2, владелец Геннадий Покемонов, полка 1\n",
      "Тип insurance, номер 10006, владелец Аристарх Павлов, полка 2\n"
     ]
    }
   ],
   "source": [
    "def l():\n",
    "    for doc in documents:\n",
    "        ty = doc[\"type\"]\n",
    "        num = doc[\"number\"]\n",
    "        name = doc[\"name\"]\n",
    "        for direct in directories.items():\n",
    "            if num in direct[1]:\n",
    "                shelf = direct[0]\n",
    "        print(f\"Тип: {ty}, номер: {num}, владелец: {name}, полка хранения: {shelf}\")\n",
    "\n",
    "l()"
   ]
  },
  {
   "cell_type": "markdown",
   "metadata": {},
   "source": [
    "### Пункт 4. Пользователь по команде \"ads\" может добавить новую полку"
   ]
  },
  {
   "cell_type": "code",
   "execution_count": 105,
   "metadata": {},
   "outputs": [
    {
     "name": "stdout",
     "output_type": "stream",
     "text": [
      "Введите номер полки: 1\n",
      "Такая полка уже существует. Текущий перечень полок: 1,2.\n"
     ]
    }
   ],
   "source": [
    "def ads():\n",
    "    shelf = input(\"Введите номер полки: \")\n",
    "    for direct in directories.items():\n",
    "        if shelf == direct[0]:\n",
    "            print(f\"Такая полка уже существует. Текущий перечень полок: {','.join(directories.keys())}.\")\n",
    "            break\n",
    "    else:\n",
    "        directories[shelf] = []\n",
    "        print(f\"Полка добавлена. Текущий перечень полок: {','.join(directories.keys())}.\")\n",
    "     \n",
    "ads()"
   ]
  },
  {
   "cell_type": "markdown",
   "metadata": {},
   "source": [
    "### Пункт 5. Пользователь по команде \"ds\" может удалить существующую полку из данных (только если она пустая)"
   ]
  },
  {
   "cell_type": "code",
   "execution_count": 111,
   "metadata": {},
   "outputs": [
    {
     "name": "stdout",
     "output_type": "stream",
     "text": [
      "Введите номер полки: 3\n",
      "Полка удалена. Текущий перечень полок 1,2.\n"
     ]
    }
   ],
   "source": [
    "def ds():\n",
    "    shelf = input(\"Введите номер полки: \")\n",
    "    for direct in directories.items():\n",
    "        if shelf == direct[0] and direct[1] == []:\n",
    "            del directories[shelf]\n",
    "            print(f\"Полка удалена. Текущий перечень полок {','.join(directories.keys())}.\")\n",
    "            break\n",
    "        elif shelf == direct[0] and direct[1] != []:\n",
    "            print(f\"На полке есть документа, удалите их перед удалением полки. Текущий перечень полок: {','.join(directories.keys())}.\")\n",
    "            break\n",
    "    else:\n",
    "        print(f\"Такой полки не существует. Текущий перечень полок: {','.join(directories.keys())}.\")\n",
    "                    \n",
    "ds()         "
   ]
  },
  {
   "cell_type": "code",
   "execution_count": 124,
   "metadata": {},
   "outputs": [
    {
     "name": "stdout",
     "output_type": "stream",
     "text": [
      "Введите командуads\n",
      "Введите номер полки: 3\n",
      "Полка добавлена. Текущий перечень полок: 1,2,3.\n"
     ]
    }
   ],
   "source": [
    "def f():\n",
    "    \"\"\"\n",
    "    p - отображение владельца документа по его номеру.\n",
    "    s - отображение полки документа по его номеру.\n",
    "    l - отображение полной информации по всем документам.\n",
    "    ads - добавление новой полки.\n",
    "    ds - удаление существующей пустой полки из данных.\n",
    "    \"\"\"\n",
    "    com = input(\"Введите команду\")\n",
    "    if com == \"p\":\n",
    "        p()\n",
    "    elif com == \"s\":\n",
    "        s()\n",
    "    elif com == \"l\":\n",
    "        l()\n",
    "    elif com == \"ads\":\n",
    "        ads()\n",
    "    elif com == \"ds\":\n",
    "        ds()\n",
    "    else:\n",
    "        print(\"Введена неверная команда: \")\n",
    "\n",
    "f()"
   ]
  },
  {
   "cell_type": "code",
   "execution_count": null,
   "metadata": {},
   "outputs": [],
   "source": []
  }
 ],
 "metadata": {
  "kernelspec": {
   "display_name": "Python 3",
   "language": "python",
   "name": "python3"
  },
  "language_info": {
   "codemirror_mode": {
    "name": "ipython",
    "version": 3
   },
   "file_extension": ".py",
   "mimetype": "text/x-python",
   "name": "python",
   "nbconvert_exporter": "python",
   "pygments_lexer": "ipython3",
   "version": "3.7.4"
  }
 },
 "nbformat": 4,
 "nbformat_minor": 2
}
